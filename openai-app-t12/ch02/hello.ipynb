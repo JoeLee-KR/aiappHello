{
 "cells": [
  {
   "cell_type": "code",
   "id": "initial_id",
   "metadata": {
    "collapsed": true,
    "ExecuteTime": {
     "end_time": "2025-04-17T08:27:20.377339Z",
     "start_time": "2025-04-17T08:27:20.369107Z"
    }
   },
   "source": [
    "#from dotenv import load_dotenv\n",
    "#import os\n",
    "#import dotenv\n",
    "\n",
    "# .env 파일 로드 (파일 이름을 지정하지 않으면 기본적으로 '.env'를 찾음)\n",
    "load_dotenv(\"../../_apikeys.env\")  # 또는 load_dotenv(\"config.env\")\n",
    "\n",
    "# 환경변수에서 API 키 읽기\n",
    "api_key = os.getenv(\"TEST-KEY\")\n",
    "\n",
    "# API 키 사용 예시\n",
    "if api_key:\n",
    "    print(f\"Key loaded: {api_key[:8]}****...ommitted...\")  # 보안을 위해 앞 몇자리만 출력\n",
    "else:\n",
    "    print(\"Key not found.\")"
   ],
   "outputs": [
    {
     "name": "stdout",
     "output_type": "stream",
     "text": [
      "Key loaded: your-tes****...ommitted...\n"
     ]
    }
   ],
   "execution_count": 14
  },
  {
   "metadata": {},
   "cell_type": "code",
   "outputs": [],
   "execution_count": null,
   "source": "",
   "id": "903e8ead93a14e9f"
  }
 ],
 "metadata": {
  "kernelspec": {
   "display_name": "Python 3",
   "language": "python",
   "name": "python3"
  },
  "language_info": {
   "codemirror_mode": {
    "name": "ipython",
    "version": 2
   },
   "file_extension": ".py",
   "mimetype": "text/x-python",
   "name": "python",
   "nbconvert_exporter": "python",
   "pygments_lexer": "ipython2",
   "version": "2.7.6"
  }
 },
 "nbformat": 4,
 "nbformat_minor": 5
}
