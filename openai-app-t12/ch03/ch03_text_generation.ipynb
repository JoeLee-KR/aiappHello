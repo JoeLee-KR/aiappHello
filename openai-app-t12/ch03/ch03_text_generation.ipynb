{
 "cells": [
  {
   "cell_type": "code",
   "id": "initial_id",
   "metadata": {
    "collapsed": true,
    "ExecuteTime": {
     "end_time": "2025-04-17T08:29:50.602560Z",
     "start_time": "2025-04-17T08:29:47.598198Z"
    }
   },
   "source": [
    "import openai\n",
    "from dotenv import load_dotenv\n",
    "import os\n",
    "\n",
    "load_dotenv(\"../../_apikeys.env\")\n",
    "OPENAI_API_KEY = os.getenv(\"DOOGIE.1STKEY\")\n",
    "\n",
    "client = openai.OpenAI( api_key = OPENAI_API_KEY )\n",
    "\n",
    "response = client.chat.completions.create(\n",
    "  model=\"gpt-3.5-turbo\",\n",
    "  messages=[{\"role\": \"user\", \"content\": \"Tell me how to make a pizza\"}])\n",
    "\n",
    "print(response)\n",
    "\n"
   ],
   "outputs": [
    {
     "name": "stdout",
     "output_type": "stream",
     "text": [
      "ChatCompletion(id='chatcmpl-BNEuxpcMRxBuvGNbUUvsfUW8AP6T5', choices=[Choice(finish_reason='stop', index=0, logprobs=None, message=ChatCompletionMessage(content='Here is a simple recipe to make a homemade pizza:\\n\\nIngredients:\\n- 1 package of pre-made pizza dough\\n- 1/2 cup of pizza sauce\\n- 1 1/2 cups of shredded mozzarella cheese\\n- Your choice of toppings (such as pepperoni, vegetables, mushrooms, olives, etc.)\\n\\nInstructions:\\n1. Preheat your oven to 450°F (230°C).\\n2. Roll out the pizza dough on a baking sheet or pizza stone until it is about 1/4 inch thick.\\n3. Spread the pizza sauce evenly over the dough, leaving a small border around the edges.\\n4. Sprinkle the shredded mozzarella cheese over the sauce.\\n5. Add your choice of toppings on top of the cheese.\\n6. Bake the pizza in the preheated oven for 10-15 minutes, or until the crust is golden brown and the cheese is melted and bubbly.\\n7. Remove the pizza from the oven and let it cool for a few minutes before slicing and serving.\\n\\nEnjoy your homemade pizza!', refusal=None, role='assistant', audio=None, function_call=None, tool_calls=None, annotations=[]))], created=1744878587, model='gpt-3.5-turbo-0125', object='chat.completion', service_tier='default', system_fingerprint=None, usage=CompletionUsage(completion_tokens=214, prompt_tokens=14, total_tokens=228, completion_tokens_details=CompletionTokensDetails(accepted_prediction_tokens=0, audio_tokens=0, reasoning_tokens=0, rejected_prediction_tokens=0), prompt_tokens_details=PromptTokensDetails(audio_tokens=0, cached_tokens=0)))\n"
     ]
    }
   ],
   "execution_count": 21
  },
  {
   "metadata": {
    "ExecuteTime": {
     "end_time": "2025-04-15T08:45:46.555921Z",
     "start_time": "2025-04-15T08:45:46.550783Z"
    }
   },
   "cell_type": "code",
   "source": "print(response.choices[0].message.content)",
   "id": "8d8096ef7689156b",
   "outputs": [
    {
     "name": "stdout",
     "output_type": "stream",
     "text": [
      "To make a pizza, you will need the following ingredients:\n",
      "- Pizza dough\n",
      "- Tomato sauce\n",
      "- Cheese (such as mozzarella)\n",
      "- Toppings of your choice (such as pepperoni, vegetables, or meats)\n",
      "- Olive oil\n",
      "\n",
      "Here are the steps to make a pizza:\n",
      "1. Preheat your oven to the highest temperature possible (usually around 450-500°F).\n",
      "2. Roll out the pizza dough on a floured surface to your desired thickness.\n",
      "3. Place the dough on a baking sheet or pizza stone that has been lightly dusted with cornmeal or flour.\n",
      "4. Spread a layer of tomato sauce over the dough, leaving a small border around the edges.\n",
      "5. Sprinkle a generous amount of shredded cheese over the sauce.\n",
      "6. Add your desired toppings on top of the cheese.\n",
      "7. Drizzle a little bit of olive oil over the top of the pizza.\n",
      "8. Place the pizza in the preheated oven and bake for about 10-15 minutes, or until the crust is golden brown and the cheese is bubbly.\n",
      "9. Remove the pizza from the oven and let it cool for a couple of minutes before slicing and serving.\n",
      "\n",
      "Enjoy your homemade pizza!\n"
     ]
    }
   ],
   "execution_count": 5
  },
  {
   "metadata": {
    "ExecuteTime": {
     "end_time": "2025-04-17T08:30:29.245338Z",
     "start_time": "2025-04-17T08:30:29.237374Z"
    }
   },
   "cell_type": "code",
   "source": [
    "print(response.usage.completion_tokens)\n",
    "print(response.usage.prompt_tokens)\n",
    "print(response.usage.total_tokens)\n",
    "total_bill = (response.usage.completion_tokens * 1.5 +\n",
    "              response.usage.prompt_tokens * 0.5 ) / 1000000\n",
    "print(total_bill, \"USD\")"
   ],
   "id": "2d599e0ed0e3df64",
   "outputs": [
    {
     "name": "stdout",
     "output_type": "stream",
     "text": [
      "214\n",
      "14\n",
      "228\n",
      "0.000328 USD\n"
     ]
    }
   ],
   "execution_count": 22
  },
  {
   "metadata": {
    "ExecuteTime": {
     "end_time": "2025-04-18T00:51:03.750310Z",
     "start_time": "2025-04-18T00:50:52.068621Z"
    }
   },
   "cell_type": "code",
   "source": [
    "import openai\n",
    "from dotenv import load_dotenv\n",
    "import os\n",
    "\n",
    "load_dotenv(\"../../_apikeys.env\")\n",
    "OPENAI_API_KEY = os.getenv(\"Doogie.2ndKey\")\n",
    "\n",
    "client = openai.OpenAI( api_key = OPENAI_API_KEY )\n",
    "\n",
    "response = client.chat.completions.create(\n",
    "  model=\"gpt-4o-mini\",\n",
    "  messages=[{\"role\": \"user\", \"content\": \"Tell me how to make a pizza\"}])\n",
    "\n",
    "print(response)"
   ],
   "id": "f29a85d98faf2631",
   "outputs": [
    {
     "name": "stdout",
     "output_type": "stream",
     "text": [
      "ChatCompletion(id='chatcmpl-BNUEQNinDNBgKM2UFBbzkhpeG7YJC', choices=[Choice(finish_reason='stop', index=0, logprobs=None, message=ChatCompletionMessage(content='Making pizza at home can be a fun and rewarding experience! Here’s a simple recipe to create a delicious homemade pizza from scratch, including the dough, sauce, and toppings.\\n\\n### Ingredients\\n\\n#### For the Pizza Dough:\\n- 2 ¼ teaspoons (one packet) active dry yeast\\n- 1 teaspoon sugar\\n- ¾ cup warm water (about 110°F or 43°C)\\n- 2 cups all-purpose flour (more for dusting)\\n- 1 teaspoon salt\\n- 1 tablespoon olive oil\\n\\n#### For the Pizza Sauce:\\n- 1 can (15 ounces) crushed tomatoes (or tomato sauce)\\n- 1 teaspoon dried oregano\\n- 1 teaspoon garlic powder (or minced fresh garlic)\\n- ½ teaspoon salt\\n- ½ teaspoon pepper\\n- Optional: 1 teaspoon sugar (to balance acidity)\\n\\n#### Toppings (choose your favorites):\\n- Shredded mozzarella cheese (about 2 cups)\\n- Pepperoni, mushrooms, bell peppers, onions, olives, or any other toppings you like\\n\\n### Instructions\\n\\n#### 1. Make the Dough:\\n1. **Activate the Yeast:** In a small bowl, combine the warm water, sugar, and yeast. Let it sit for about 5-10 minutes until it becomes frothy.\\n2. **Mix Dry Ingredients:** In a large mixing bowl, combine the flour and salt.\\n3. **Combine:** Make a well in the center of the flour mixture and add the yeast mixture and olive oil. Stir until it comes together to form a dough.\\n4. **Knead the Dough:** Transfer the dough to a floured surface and knead it for about 5-7 minutes until smooth and elastic.\\n5. **Let it Rise:** Place the dough in a greased bowl, cover with a damp cloth, and let it rise in a warm place for about 1 hour or until doubled in size.\\n\\n#### 2. Prepare the Pizza Sauce:\\n1. In a medium bowl, mix together the crushed tomatoes, oregano, garlic powder, salt, pepper, and sugar (if using). Adjust seasoning to taste.\\n\\n#### 3. Preheat the Oven:\\n- Preheat your oven to **475°F (245°C)**. If you have a pizza stone, place it in the oven to heat up.\\n\\n#### 4. Shape the Pizza:\\n1. Once the dough has risen, punch it down and transfer it to a floured surface.\\n2. Roll out the dough with a rolling pin or stretch it by hand to your desired thickness and shape. (Keep the edges a little thicker for a crust.)\\n3. Transfer the rolled-out dough to a pizza peel or a baking sheet lined with parchment paper.\\n\\n#### 5. Assemble the Pizza:\\n1. Spread a layer of pizza sauce evenly over the dough, leaving a small border around the edges.\\n2. Sprinkle a generous amount of mozzarella cheese on top.\\n3. Add your desired toppings.\\n\\n#### 6. Bake:\\n- Carefully transfer the pizza onto the hot pizza stone in the oven. Alternatively, bake it on the baking sheet. Bake for about 10-15 minutes or until the crust is golden brown and the cheese is bubbly and slightly browned.\\n\\n#### 7. Serve:\\n- Remove the pizza from the oven and let it cool slightly before slicing. Enjoy your homemade pizza!\\n\\n### Tips:\\n- Feel free to experiment with different sauces, cheeses, and toppings to create your own unique combinations!\\n- If you want to make a more advanced pizza, consider adding herbs like fresh basil after baking for added flavor. \\n\\nEnjoy your pizza-making adventure!', refusal=None, role='assistant', audio=None, function_call=None, tool_calls=None, annotations=[]))], created=1744937454, model='gpt-4o-mini-2024-07-18', object='chat.completion', service_tier='default', system_fingerprint='fp_f7d56a8a2c', usage=CompletionUsage(completion_tokens=730, prompt_tokens=14, total_tokens=744, completion_tokens_details=CompletionTokensDetails(accepted_prediction_tokens=0, audio_tokens=0, reasoning_tokens=0, rejected_prediction_tokens=0), prompt_tokens_details=PromptTokensDetails(audio_tokens=0, cached_tokens=0)))\n"
     ]
    }
   ],
   "execution_count": 2
  },
  {
   "metadata": {
    "ExecuteTime": {
     "end_time": "2025-04-17T07:31:07.427180Z",
     "start_time": "2025-04-17T07:31:07.420593Z"
    }
   },
   "cell_type": "code",
   "source": "print(response.choices[0].message.content)",
   "id": "fcd88c31a06fde7c",
   "outputs": [
    {
     "name": "stdout",
     "output_type": "stream",
     "text": [
      "Making a pizza at home can be a fun and rewarding experience! Here’s a simple recipe to help you create a delicious homemade pizza from scratch.\n",
      "\n",
      "### Ingredients\n",
      "\n",
      "#### For the Dough:\n",
      "- 2 ¼ teaspoons (1 packet) active dry yeast\n",
      "- 1 teaspoon sugar\n",
      "- ¾ cup warm water (about 110°F or 43°C)\n",
      "- 2 cups all-purpose flour (and a bit more for dusting)\n",
      "- 1 teaspoon salt\n",
      "- 1 tablespoon olive oil\n",
      "\n",
      "#### For the Toppings:\n",
      "- 1 cup pizza sauce (store-bought or homemade)\n",
      "- 2 cups shredded mozzarella cheese\n",
      "- Your choice of toppings (pepperoni, bell peppers, mushrooms, onions, olives, etc.)\n",
      "- Dried oregano and red pepper flakes (optional)\n",
      "\n",
      "### Instructions\n",
      "\n",
      "#### Step 1: Prepare the Dough\n",
      "1. **Activate the Yeast:** In a small bowl, mix the warm water, sugar, and yeast. Let it sit for about 5-10 minutes until it becomes frothy.\n",
      "   \n",
      "2. **Mix Ingredients:** In a larger bowl, combine the flour and salt. Make a well in the center, then add the activated yeast mixture and olive oil. \n",
      "\n",
      "3. **Knead the Dough:** Mix together until the dough starts to come together. Transfer it to a floured surface and knead for about 5-7 minutes until smooth and elastic.\n",
      "\n",
      "4. **First Rise:** Place the dough in a greased bowl, cover it with a clean cloth, and let it rise in a warm place for about 1-1.5 hours, or until it has doubled in size.\n",
      "\n",
      "#### Step 2: Preheat the Oven\n",
      "- Preheat your oven to 475°F (245°C). If you're using a pizza stone, place it in the oven while preheating.\n",
      "\n",
      "#### Step 3: Shape the Pizza\n",
      "1. **Punch Down the Dough:** Once the dough has risen, punch it down to release the air. \n",
      "\n",
      "2. **Shape the Dough:** Turn it out onto a floured surface and roll it out to your desired thickness (about 12 inches for a standard pizza). You can use your hands to stretch it if you prefer a rustic look.\n",
      "\n",
      "3. **Transfer to a Baking Sheet or Stone:** If using a pizza stone, carefully transfer the rolled-out dough onto a pizza peel sprinkled with flour. If using a baking sheet, lightly oil the sheet and transfer the dough onto it.\n",
      "\n",
      "#### Step 4: Add Toppings\n",
      "1. **Spread Sauce:** Spread a thin layer of pizza sauce over the base, leaving a small edge for the crust.\n",
      "\n",
      "2. **Add Cheese:** Sprinkle a generous amount of shredded mozzarella cheese over the sauce.\n",
      "\n",
      "3. **Add Additional Toppings:** Add your choice of toppings evenly over the pizza.\n",
      "\n",
      "4. **Season:** Sprinkle with dried oregano and red pepper flakes if desired.\n",
      "\n",
      "#### Step 5: Bake the Pizza\n",
      "- Carefully slide the pizza onto the preheated pizza stone or place the baking sheet in the oven. Bake for 12-15 minutes, or until the crust is golden brown and the cheese is bubbly and slightly browned.\n",
      "\n",
      "#### Step 6: Enjoy\n",
      "- Remove the pizza from the oven and allow it to cool for a couple of minutes. Slice it up and serve hot!\n",
      "\n",
      "### Tips\n",
      "- Experiment with different sauces (pesto, white sauce) and cheeses (parmesan, goat cheese) for variety.\n",
      "- If you love a crispy crust, consider using a pizza stone.\n",
      "- Feel free to customize the toppings based on your preferences!\n",
      "\n",
      "Enjoy your homemade pizza! 🍕\n"
     ]
    }
   ],
   "execution_count": 13
  },
  {
   "metadata": {
    "ExecuteTime": {
     "end_time": "2025-04-17T08:30:57.865739Z",
     "start_time": "2025-04-17T08:30:57.847748Z"
    }
   },
   "cell_type": "code",
   "source": [
    "print(response.usage.completion_tokens)\n",
    "print(response.usage.prompt_tokens)\n",
    "print(response.usage.total_tokens)\n",
    "total_bill = (response.usage.completion_tokens * 0.6 +\n",
    "              response.usage.prompt_tokens * 0.15 ) / 1000000\n",
    "print(total_bill, \"USD\")\n",
    "print(response.usage)"
   ],
   "id": "2c7ad006ca2cab6e",
   "outputs": [
    {
     "name": "stdout",
     "output_type": "stream",
     "text": [
      "755\n",
      "14\n",
      "769\n",
      "0.0004551 USD\n",
      "CompletionUsage(completion_tokens=755, prompt_tokens=14, total_tokens=769, completion_tokens_details=CompletionTokensDetails(accepted_prediction_tokens=0, audio_tokens=0, reasoning_tokens=0, rejected_prediction_tokens=0), prompt_tokens_details=PromptTokensDetails(audio_tokens=0, cached_tokens=0))\n"
     ]
    }
   ],
   "execution_count": 24
  },
  {
   "metadata": {},
   "cell_type": "code",
   "outputs": [],
   "execution_count": null,
   "source": "",
   "id": "8f244f14ddf0d82c"
  }
 ],
 "metadata": {
  "kernelspec": {
   "display_name": "Python 3",
   "language": "python",
   "name": "python3"
  },
  "language_info": {
   "codemirror_mode": {
    "name": "ipython",
    "version": 2
   },
   "file_extension": ".py",
   "mimetype": "text/x-python",
   "name": "python",
   "nbconvert_exporter": "python",
   "pygments_lexer": "ipython2",
   "version": "2.7.6"
  }
 },
 "nbformat": 4,
 "nbformat_minor": 5
}
