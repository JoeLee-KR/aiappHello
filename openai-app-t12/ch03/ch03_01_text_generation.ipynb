{
 "cells": [
  {
   "cell_type": "code",
   "id": "initial_id",
   "metadata": {
    "collapsed": true,
    "ExecuteTime": {
     "end_time": "2025-05-19T05:02:23.002735Z",
     "start_time": "2025-05-19T05:02:19.262423Z"
    }
   },
   "source": [
    "import openai\n",
    "from dotenv import load_dotenv\n",
    "import os\n",
    "\n",
    "load_dotenv(\"../../_apikeys.env\")\n",
    "OPENAI_API_KEY = os.getenv(\"Doogie.2ndKey\")\n",
    "\n",
    "client = openai.OpenAI( api_key = OPENAI_API_KEY )\n",
    "\n",
    "response = client.chat.completions.create(\n",
    "  model=\"gpt-3.5-turbo\",\n",
    "  messages=[{\"role\": \"user\", \"content\": \"Tell me how to make a pizza\"}]\n",
    ")\n",
    "\n",
    "print(response)\n",
    "\n"
   ],
   "outputs": [
    {
     "name": "stdout",
     "output_type": "stream",
     "text": [
      "ChatCompletion(id='chatcmpl-BYmvksFbEwQfXjALgaUalYTtBz1wS', choices=[Choice(finish_reason='stop', index=0, logprobs=None, message=ChatCompletionMessage(content='Here is a basic recipe for making a pizza:\\n\\nIngredients:\\n- 1 package of pizza dough\\n- 1/2 cup of tomato sauce\\n- 1 cup of shredded mozzarella cheese\\n- Desired toppings (such as pepperoni, mushrooms, bell peppers, etc.)\\n- Olive oil\\n- Cornmeal or flour for dusting\\n\\nInstructions:\\n1. Preheat your oven to 475°F (245°C).\\n2. Roll out the pizza dough on a floured surface to your desired thickness.\\n3. Place the dough on a baking sheet or pizza stone dusted with cornmeal or flour.\\n4. Spread the tomato sauce evenly over the dough, leaving a small border for the crust.\\n5. Sprinkle the shredded mozzarella cheese over the sauce, then add your desired toppings.\\n6. Drizzle a little olive oil over the top of the pizza.\\n7. Bake in the preheated oven for 12-15 minutes, or until the crust is golden brown and the cheese is bubbly and melted.\\n8. Remove the pizza from the oven and let it cool for a few minutes before slicing and serving.\\n\\nEnjoy your homemade pizza! Feel free to get creative with different toppings and seasonings to customize your pizza to your liking.', refusal=None, role='assistant', audio=None, function_call=None, tool_calls=None, annotations=[]))], created=1747630940, model='gpt-3.5-turbo-0125', object='chat.completion', service_tier='default', system_fingerprint=None, usage=CompletionUsage(completion_tokens=252, prompt_tokens=14, total_tokens=266, completion_tokens_details=CompletionTokensDetails(accepted_prediction_tokens=0, audio_tokens=0, reasoning_tokens=0, rejected_prediction_tokens=0), prompt_tokens_details=PromptTokensDetails(audio_tokens=0, cached_tokens=0)))\n"
     ]
    }
   ],
   "execution_count": 2
  },
  {
   "metadata": {
    "ExecuteTime": {
     "end_time": "2025-05-19T05:03:37.308156Z",
     "start_time": "2025-05-19T05:03:37.302934Z"
    }
   },
   "cell_type": "code",
   "source": "print(response.choices[0].message.content)",
   "id": "8d8096ef7689156b",
   "outputs": [
    {
     "name": "stdout",
     "output_type": "stream",
     "text": [
      "Here is a basic recipe for making a pizza:\n",
      "\n",
      "Ingredients:\n",
      "- 1 package of pizza dough\n",
      "- 1/2 cup of tomato sauce\n",
      "- 1 cup of shredded mozzarella cheese\n",
      "- Desired toppings (such as pepperoni, mushrooms, bell peppers, etc.)\n",
      "- Olive oil\n",
      "- Cornmeal or flour for dusting\n",
      "\n",
      "Instructions:\n",
      "1. Preheat your oven to 475°F (245°C).\n",
      "2. Roll out the pizza dough on a floured surface to your desired thickness.\n",
      "3. Place the dough on a baking sheet or pizza stone dusted with cornmeal or flour.\n",
      "4. Spread the tomato sauce evenly over the dough, leaving a small border for the crust.\n",
      "5. Sprinkle the shredded mozzarella cheese over the sauce, then add your desired toppings.\n",
      "6. Drizzle a little olive oil over the top of the pizza.\n",
      "7. Bake in the preheated oven for 12-15 minutes, or until the crust is golden brown and the cheese is bubbly and melted.\n",
      "8. Remove the pizza from the oven and let it cool for a few minutes before slicing and serving.\n",
      "\n",
      "Enjoy your homemade pizza! Feel free to get creative with different toppings and seasonings to customize your pizza to your liking.\n"
     ]
    }
   ],
   "execution_count": 3
  },
  {
   "metadata": {
    "ExecuteTime": {
     "end_time": "2025-05-20T01:28:48.731024Z",
     "start_time": "2025-05-20T01:28:48.724295Z"
    }
   },
   "cell_type": "code",
   "source": [
    "print(response.usage.completion_tokens)\n",
    "print(response.usage.prompt_tokens)\n",
    "print(response.usage.total_tokens)\n",
    "total_bill = (response.usage.completion_tokens * 1.5 +\n",
    "              response.usage.prompt_tokens * 0.5 ) / 1000000\n",
    "print(total_bill, \"USD\")\n",
    "print(response.usage)"
   ],
   "id": "2d599e0ed0e3df64",
   "outputs": [
    {
     "name": "stdout",
     "output_type": "stream",
     "text": [
      "22\n",
      "30\n",
      "52\n",
      "4.8e-05 USD\n",
      "CompletionUsage(completion_tokens=22, prompt_tokens=30, total_tokens=52, completion_tokens_details=CompletionTokensDetails(accepted_prediction_tokens=0, audio_tokens=0, reasoning_tokens=0, rejected_prediction_tokens=0), prompt_tokens_details=PromptTokensDetails(audio_tokens=0, cached_tokens=0))\n"
     ]
    }
   ],
   "execution_count": 10
  },
  {
   "metadata": {
    "ExecuteTime": {
     "end_time": "2025-05-19T05:04:26.064347Z",
     "start_time": "2025-05-19T05:04:09.695931Z"
    }
   },
   "cell_type": "code",
   "source": [
    "import openai\n",
    "from dotenv import load_dotenv\n",
    "import os\n",
    "\n",
    "load_dotenv(\"../../_apikeys.env\")\n",
    "OPENAI_API_KEY = os.getenv(\"Doogie.2ndKey\")\n",
    "\n",
    "client = openai.OpenAI( api_key = OPENAI_API_KEY )\n",
    "\n",
    "response = client.chat.completions.create(\n",
    "  model=\"gpt-4o-mini\",\n",
    "  messages=[{\"role\": \"user\", \"content\": \"Tell me how to make a pizza\"}]\n",
    ")\n",
    "\n",
    "print(response)"
   ],
   "id": "f29a85d98faf2631",
   "outputs": [
    {
     "name": "stdout",
     "output_type": "stream",
     "text": [
      "ChatCompletion(id='chatcmpl-BYmxW5gsyAHQpN6REpD4J2Tl9gIfo', choices=[Choice(finish_reason='stop', index=0, logprobs=None, message=ChatCompletionMessage(content='Making a pizza at home can be a fun and rewarding experience! Here’s a simple recipe to make a classic homemade pizza from scratch.\\n\\n### Ingredients\\n\\n#### For the Dough:\\n- 2 1/4 teaspoons (1 packet) active dry yeast\\n- 1 teaspoon sugar\\n- 3/4 cup warm water (110°F / 45°C)\\n- 2 cups all-purpose flour (plus extra for dusting)\\n- 1 teaspoon salt\\n- 1 tablespoon olive oil\\n\\n#### For the Toppings:\\n- 1/2 cup pizza sauce (store-bought or homemade)\\n- 1 to 2 cups shredded mozzarella cheese\\n- Toppings of your choice (pepperoni, bell peppers, onions, mushrooms, olives, etc.)\\n- Olive oil (for brushing)\\n- Dried oregano or Italian seasoning (optional)\\n\\n### Instructions\\n\\n#### Step 1: Prepare the Dough\\n1. **Activate the Yeast**: In a small bowl, mix the warm water, sugar, and yeast. Let it sit for about 5-10 minutes until it becomes frothy.\\n  \\n2. **Make the Dough**: In a large mixing bowl, combine the flour and salt. Create a well in the center and pour in the yeast mixture and olive oil. Mix until a dough begins to form.\\n\\n3. **Knead the Dough**: Turn the dough out onto a floured surface and knead for about 5-7 minutes until it’s smooth and elastic. You may need to add a little more flour if the dough is sticky.\\n\\n4. **Let it Rise**: Place the dough in a lightly greased bowl, cover with a kitchen towel or plastic wrap, and let it rise in a warm place for about 1 hour or until it doubles in size.\\n\\n#### Step 2: Preheat the Oven\\n- Preheat your oven to 475°F (245°C) and if you have a pizza stone, place it in the oven to heat up as well.\\n\\n#### Step 3: Shape the Pizza\\n1. **Punch Down**: Once the dough has risen, punch it down to release the air. \\n\\n2. **Roll Out the Dough**: On a floured surface, roll out the dough to your desired thickness for the pizza. A 10-12 inch diameter is ideal for a standard pizza. \\n\\n3. **Transfer to a Baking Sheet or Pizza Stone**: If you’re using a baking sheet, lightly grease it or sprinkle with cornmeal. If using a pizza stone, you can transfer the dough onto a pizza peel covered with flour before transferring to the stone.\\n\\n#### Step 4: Add Toppings\\n1. **Spread the Sauce**: Evenly spread the pizza sauce over the surface of the dough, leaving a small border for the crust.\\n\\n2. **Add Cheese**: Sprinkle the shredded mozzarella cheese on top of the sauce.\\n\\n3. **Add Other Toppings**: Add your favorite toppings evenly over the cheese. \\n\\n4. **Finish with Olive Oil**: Lightly brush the edges of the crust with olive oil for a golden color and sprinkle with dried oregano or Italian seasoning if desired.\\n\\n#### Step 5: Bake the Pizza\\n- Bake in the preheated oven for about 12-15 minutes, or until the crust is golden brown and the cheese is bubbly and slightly browned.\\n\\n#### Step 6: Slice and Serve\\n- Remove the pizza from the oven and let it cool for a few minutes. Slice it into wedges and serve hot!\\n\\n### Enjoy!\\nFeel free to experiment with different sauces, cheeses, and toppings to create your perfect pizza. Enjoy your homemade pizza!', refusal=None, role='assistant', audio=None, function_call=None, tool_calls=None, annotations=[]))], created=1747631050, model='gpt-4o-mini-2024-07-18', object='chat.completion', service_tier='default', system_fingerprint='fp_54eb4bd693', usage=CompletionUsage(completion_tokens=744, prompt_tokens=14, total_tokens=758, completion_tokens_details=CompletionTokensDetails(accepted_prediction_tokens=0, audio_tokens=0, reasoning_tokens=0, rejected_prediction_tokens=0), prompt_tokens_details=PromptTokensDetails(audio_tokens=0, cached_tokens=0)))\n"
     ]
    }
   ],
   "execution_count": 5
  },
  {
   "metadata": {
    "ExecuteTime": {
     "end_time": "2025-05-19T05:04:38.840884Z",
     "start_time": "2025-05-19T05:04:38.836532Z"
    }
   },
   "cell_type": "code",
   "source": "print(response.choices[0].message.content)",
   "id": "fcd88c31a06fde7c",
   "outputs": [
    {
     "name": "stdout",
     "output_type": "stream",
     "text": [
      "Making a pizza at home can be a fun and rewarding experience! Here’s a simple recipe to make a classic homemade pizza from scratch.\n",
      "\n",
      "### Ingredients\n",
      "\n",
      "#### For the Dough:\n",
      "- 2 1/4 teaspoons (1 packet) active dry yeast\n",
      "- 1 teaspoon sugar\n",
      "- 3/4 cup warm water (110°F / 45°C)\n",
      "- 2 cups all-purpose flour (plus extra for dusting)\n",
      "- 1 teaspoon salt\n",
      "- 1 tablespoon olive oil\n",
      "\n",
      "#### For the Toppings:\n",
      "- 1/2 cup pizza sauce (store-bought or homemade)\n",
      "- 1 to 2 cups shredded mozzarella cheese\n",
      "- Toppings of your choice (pepperoni, bell peppers, onions, mushrooms, olives, etc.)\n",
      "- Olive oil (for brushing)\n",
      "- Dried oregano or Italian seasoning (optional)\n",
      "\n",
      "### Instructions\n",
      "\n",
      "#### Step 1: Prepare the Dough\n",
      "1. **Activate the Yeast**: In a small bowl, mix the warm water, sugar, and yeast. Let it sit for about 5-10 minutes until it becomes frothy.\n",
      "  \n",
      "2. **Make the Dough**: In a large mixing bowl, combine the flour and salt. Create a well in the center and pour in the yeast mixture and olive oil. Mix until a dough begins to form.\n",
      "\n",
      "3. **Knead the Dough**: Turn the dough out onto a floured surface and knead for about 5-7 minutes until it’s smooth and elastic. You may need to add a little more flour if the dough is sticky.\n",
      "\n",
      "4. **Let it Rise**: Place the dough in a lightly greased bowl, cover with a kitchen towel or plastic wrap, and let it rise in a warm place for about 1 hour or until it doubles in size.\n",
      "\n",
      "#### Step 2: Preheat the Oven\n",
      "- Preheat your oven to 475°F (245°C) and if you have a pizza stone, place it in the oven to heat up as well.\n",
      "\n",
      "#### Step 3: Shape the Pizza\n",
      "1. **Punch Down**: Once the dough has risen, punch it down to release the air. \n",
      "\n",
      "2. **Roll Out the Dough**: On a floured surface, roll out the dough to your desired thickness for the pizza. A 10-12 inch diameter is ideal for a standard pizza. \n",
      "\n",
      "3. **Transfer to a Baking Sheet or Pizza Stone**: If you’re using a baking sheet, lightly grease it or sprinkle with cornmeal. If using a pizza stone, you can transfer the dough onto a pizza peel covered with flour before transferring to the stone.\n",
      "\n",
      "#### Step 4: Add Toppings\n",
      "1. **Spread the Sauce**: Evenly spread the pizza sauce over the surface of the dough, leaving a small border for the crust.\n",
      "\n",
      "2. **Add Cheese**: Sprinkle the shredded mozzarella cheese on top of the sauce.\n",
      "\n",
      "3. **Add Other Toppings**: Add your favorite toppings evenly over the cheese. \n",
      "\n",
      "4. **Finish with Olive Oil**: Lightly brush the edges of the crust with olive oil for a golden color and sprinkle with dried oregano or Italian seasoning if desired.\n",
      "\n",
      "#### Step 5: Bake the Pizza\n",
      "- Bake in the preheated oven for about 12-15 minutes, or until the crust is golden brown and the cheese is bubbly and slightly browned.\n",
      "\n",
      "#### Step 6: Slice and Serve\n",
      "- Remove the pizza from the oven and let it cool for a few minutes. Slice it into wedges and serve hot!\n",
      "\n",
      "### Enjoy!\n",
      "Feel free to experiment with different sauces, cheeses, and toppings to create your perfect pizza. Enjoy your homemade pizza!\n"
     ]
    }
   ],
   "execution_count": 6
  },
  {
   "metadata": {
    "ExecuteTime": {
     "end_time": "2025-05-19T05:04:48.873169Z",
     "start_time": "2025-05-19T05:04:48.865262Z"
    }
   },
   "cell_type": "code",
   "source": [
    "print(response.usage.completion_tokens)\n",
    "print(response.usage.prompt_tokens)\n",
    "print(response.usage.total_tokens)\n",
    "total_bill = (response.usage.completion_tokens * 0.6 +\n",
    "              response.usage.prompt_tokens * 0.15 ) / 1000000\n",
    "print(total_bill, \"USD\")\n",
    "print(response.usage)"
   ],
   "id": "2c7ad006ca2cab6e",
   "outputs": [
    {
     "name": "stdout",
     "output_type": "stream",
     "text": [
      "744\n",
      "14\n",
      "758\n",
      "0.0004485 USD\n",
      "CompletionUsage(completion_tokens=744, prompt_tokens=14, total_tokens=758, completion_tokens_details=CompletionTokensDetails(accepted_prediction_tokens=0, audio_tokens=0, reasoning_tokens=0, rejected_prediction_tokens=0), prompt_tokens_details=PromptTokensDetails(audio_tokens=0, cached_tokens=0))\n"
     ]
    }
   ],
   "execution_count": 7
  },
  {
   "metadata": {
    "ExecuteTime": {
     "end_time": "2025-04-18T01:06:41.246083Z",
     "start_time": "2025-04-18T01:06:40.362527Z"
    }
   },
   "cell_type": "code",
   "source": [
    "import openai\n",
    "from dotenv import load_dotenv\n",
    "import os\n",
    "\n",
    "load_dotenv(\"../../_apikeys.env\")\n",
    "OPENAI_API_KEY = os.getenv(\"Doogie.2ndKey\")\n",
    "\n",
    "client = openai.OpenAI( api_key = OPENAI_API_KEY )\n",
    "\n",
    "response = client.chat.completions.create(\n",
    "  model=\"gpt-4o-mini\",\n",
    "  messages=[\n",
    "      {\"role\": \"system\", \"content\": \"You are a translator that translates users' inputs. If the input is in Korean, it must be translated into English. This must be strictly adhered to.\"},\n",
    "      {\"role\": \"user\", \"content\": \"2020년 월드시리즈는 누가 우승했어?\"}\n",
    "    ]\n",
    "  )\n",
    "\n",
    "print(response.choices[0].message.content)"
   ],
   "id": "8f244f14ddf0d82c",
   "outputs": [
    {
     "name": "stdout",
     "output_type": "stream",
     "text": [
      "Who won the World Series in 2020?\n"
     ]
    }
   ],
   "execution_count": 5
  },
  {
   "metadata": {
    "ExecuteTime": {
     "end_time": "2025-04-18T01:09:39.040418Z",
     "start_time": "2025-04-18T01:09:36.700906Z"
    }
   },
   "cell_type": "code",
   "source": [
    "import openai\n",
    "from dotenv import load_dotenv\n",
    "import os\n",
    "\n",
    "load_dotenv(\"../../_apikeys.env\")\n",
    "OPENAI_API_KEY = os.getenv(\"Doogie.2ndKey\")\n",
    "\n",
    "client = openai.OpenAI( api_key = OPENAI_API_KEY )\n",
    "\n",
    "response = client.chat.completions.create(\n",
    "  model=\"gpt-4o-mini\",\n",
    "  messages=[\n",
    "      {\"role\": \"system\", \"content\": \"You are a chatbot that answers questions in English. This must be honored. You must only answer in English.\"},\n",
    "      {\"role\": \"user\", \"content\": \"2020년 월드시리즈는 누가 우승했어?\"}\n",
    "    ]\n",
    "  )\n",
    "\n",
    "print(response.choices[0].message.content)"
   ],
   "id": "17449b7daae3948d",
   "outputs": [
    {
     "name": "stdout",
     "output_type": "stream",
     "text": [
      "The Los Angeles Dodgers won the 2020 World Series. They defeated the Tampa Bay Rays to claim the championship.\n"
     ]
    }
   ],
   "execution_count": 6
  },
  {
   "metadata": {
    "ExecuteTime": {
     "end_time": "2025-05-20T01:33:59.597048Z",
     "start_time": "2025-05-20T01:33:56.933703Z"
    }
   },
   "cell_type": "code",
   "source": [
    "import openai\n",
    "from dotenv import load_dotenv\n",
    "import os\n",
    "\n",
    "load_dotenv(\"../../_apikeys.env\")\n",
    "OPENAI_API_KEY = os.getenv(\"Doogie.2ndKey\")\n",
    "\n",
    "client = openai.OpenAI( api_key = OPENAI_API_KEY )\n",
    "\n",
    "response = client.chat.completions.create(\n",
    "  model=\"gpt-4o-mini\",\n",
    "  messages=[\n",
    "      {\"role\": \"user\", \"content\": \"2002년 월드컵에서 가장 화제가 되었던 나라는 어디야?\"}\n",
    "    ]\n",
    "  )\n",
    "\n",
    "print(response.choices[0].message.content)"
   ],
   "id": "ec2f41e1f43241d9",
   "outputs": [
    {
     "name": "stdout",
     "output_type": "stream",
     "text": [
      "2002년 월드컵에서는 한국과 일본이 공동 개최국으로 큰 화제가 되었습니다. 특히 한국 대표팀이 4강에 진출하면서 큰 이목을 끌었고, 이는 월드컵 역사상 한국 팀의 가장 높은 성과였습니다. 한국의 빠른 발전과 축구의 인기 상승, 그리고 팬들의 열정적인 응원 덕분에 한국은 이 대회에서 많은 주목을 받았습니다.\n"
     ]
    }
   ],
   "execution_count": 12
  },
  {
   "metadata": {
    "ExecuteTime": {
     "end_time": "2025-05-20T01:32:44.080509Z",
     "start_time": "2025-05-20T01:32:33.460555Z"
    }
   },
   "cell_type": "code",
   "source": [
    "import openai\n",
    "from dotenv import load_dotenv\n",
    "import os\n",
    "\n",
    "load_dotenv(\"../../_apikeys.env\")\n",
    "OPENAI_API_KEY = os.getenv(\"Doogie.2ndKey\")\n",
    "\n",
    "client = openai.OpenAI( api_key = OPENAI_API_KEY )\n",
    "\n",
    "response = client.chat.completions.create(\n",
    "  model=\"gpt-4o-mini\",\n",
    "  messages=[\n",
    "      {\"role\": \"user\", \"content\": \"2002년 월드컵에서 가장 화제가 되었던 나라는 어디야?\"},\n",
    "      {\"role\": \"assistant\", \"content\": \"예상을 뚫고 4강 신화를 일으킨 한국입니다.\"},\n",
    "      {\"role\": \"user\", \"content\": \"그 나라가 화제가 되었던 이유를 자세하게 설명해줘.\"}\n",
    "    ]\n",
    "  )\n",
    "\n",
    "print(response.choices[0].message.content)"
   ],
   "id": "69395c8e14d41955",
   "outputs": [
    {
     "name": "stdout",
     "output_type": "stream",
     "text": [
      "2002년 FIFA 월드컵에서 한국은 여러 가지 이유로 큰 화제가 되었습니다. 다음은 그 주요 이유들입니다:\n",
      "\n",
      "1. **4강 진출**: 한국은 월드컵 역사상 최초로 아시아 국가가 4강에 진출한 사례였습니다. 조별리그에서 멕시코와 폴란드, 미국을 이기고 16강에 진출한 뒤, 16강에서 이탈리아, 8강에서는 스페인을 이기며 결승 진출에 다가갔습니다. 이 과정에서 한국은 전 세계 축구 팬들을 놀라게 했습니다.\n",
      "\n",
      "2. **감정적인 응원**: 한국 팬들의 열정적인 응원 문화가 주목받았습니다. 수많은 팬들이 거리로 나와 '붉은악마'라는 응원단체를 형성하고, 태극기를 흔들며 경기를 지켜보았습니다. 이러한 붐은 전 국민이 하나로 뭉치는 계기가 되었고, 한국의 체육 문화에 큰 영향을 미쳤습니다.\n",
      "\n",
      "3. **홈 어드밴티지**: 한국은 2002 월드컵을 개최하는 나라로, 홈 어드밴티지를 적극적으로 활용했습니다. 경기장마다 뜨거운 열기로 가득 차 있었고, 현지 팬들의 응원이 선수들에게 큰 힘이 되었습니다.\n",
      "\n",
      "4. **논란**: 한국의 4강 진출은 일부 경기에서의 판정 논란으로도 이어졌습니다. 특히 이탈리아와 스페인전에서의 판정이 큰 이슈가 되었죠. 이러한 논란은 한국의 성과를 둘러싼 국제적인 논의와 관심을 더욱 불러일으켰습니다.\n",
      "\n",
      "5. **축구의 대중화**: 이번 월드컵은 한국 내에서 축구 인기에 큰 영향을 미쳤습니다. 선수들의 활약과 함께 국민들이 축구에 대한 관심이 높아졌고, 이는 이후 한국 축구가 더 발전하는 계기가 되었습니다.\n",
      "\n",
      "이러한 요소들이 결합되어 한국은 2002년 월드컵에서 단순한 스포츠 성과를 넘어, 사회적이고 문화적인 큰 이슈로 떠오르게 되었습니다.\n"
     ]
    }
   ],
   "execution_count": 11
  },
  {
   "metadata": {
    "ExecuteTime": {
     "end_time": "2025-05-19T05:05:47.849194Z",
     "start_time": "2025-05-19T05:05:46.521858Z"
    }
   },
   "cell_type": "code",
   "source": [
    "import openai\n",
    "from dotenv import load_dotenv\n",
    "import os\n",
    "\n",
    "load_dotenv(\"../../_apikeys.env\")\n",
    "OPENAI_API_KEY = os.getenv(\"Doogie.2ndKey\")\n",
    "\n",
    "client = openai.OpenAI( api_key = OPENAI_API_KEY )\n",
    "\n",
    "response = client.chat.completions.create(\n",
    "  model=\"gpt-4o-mini\",\n",
    "  response_format={\"type\": \"json_object\"},\n",
    "  messages=[\n",
    "      {\"role\": \"system\", \"content\": \"You are helpful assistant designed to output JSON.\"},\n",
    "      {\"role\": \"user\", \"content\": \"Who won the world series in 2002?\"}\n",
    "    ]\n",
    "  )\n",
    "\n",
    "print(response.choices[0].message.content)"
   ],
   "id": "5b6e78407ef21775",
   "outputs": [
    {
     "name": "stdout",
     "output_type": "stream",
     "text": [
      "{\n",
      "  \"year\": 2002,\n",
      "  \"world_series_winner\": \"Anaheim Angels\"\n",
      "}\n"
     ]
    }
   ],
   "execution_count": 8
  }
 ],
 "metadata": {
  "kernelspec": {
   "display_name": "Python 3",
   "language": "python",
   "name": "python3"
  },
  "language_info": {
   "codemirror_mode": {
    "name": "ipython",
    "version": 2
   },
   "file_extension": ".py",
   "mimetype": "text/x-python",
   "name": "python",
   "nbconvert_exporter": "python",
   "pygments_lexer": "ipython2",
   "version": "2.7.6"
  }
 },
 "nbformat": 4,
 "nbformat_minor": 5
}
